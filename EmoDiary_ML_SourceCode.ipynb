{
  "nbformat": 4,
  "nbformat_minor": 0,
  "metadata": {
    "colab": {
      "name": "EmoDiary_ML_SourceCode.ipynb",
      "provenance": [],
      "collapsed_sections": [
        "EYPUH4MLuJ6W",
        "yJH1_t71uJ6W",
        "cwKn8BZXuJ6X",
        "zOQkUUqnuJ6X",
        "Wk1IlybyuJ6Y",
        "h3BC8NQouJ6Y",
        "C9Pb9mPDuJ6Z",
        "P5ckGjvGuJ6Z",
        "Qr6rpDJ2RdXc",
        "NVSDbpxPuJ6a",
        "6Ddpv7wQuJ6a"
      ],
      "toc_visible": true,
      "machine_shape": "hm"
    },
    "kernelspec": {
      "name": "python3",
      "display_name": "Python 3"
    },
    "language_info": {
      "name": "python"
    },
    "accelerator": "GPU"
  },
  "cells": [
    {
      "cell_type": "markdown",
      "source": [
        "### Import libraries that needed"
      ],
      "metadata": {
        "id": "EYPUH4MLuJ6W"
      }
    },
    {
      "cell_type": "code",
      "source": [
        "import pandas as pd\n",
        "from keras.preprocessing.text import Tokenizer\n",
        "from tensorflow.keras.preprocessing.sequence import pad_sequences\n",
        "import numpy as np\n",
        "import tensorflow as tf\n",
        "import matplotlib.pyplot as plt\n",
        "import pickle"
      ],
      "metadata": {
        "id": "gaZYwnmtuJ6W"
      },
      "execution_count": 15,
      "outputs": []
    },
    {
      "cell_type": "markdown",
      "source": [
        "### Parameter values"
      ],
      "metadata": {
        "id": "yJH1_t71uJ6W"
      }
    },
    {
      "cell_type": "code",
      "source": [
        "PADDING_STYLE = 'post'\n",
        "OOV_TOKEN = \"<OOV>\"\n",
        "VOCAB_SIZE = 10000\n",
        "EMBEDDING_DIM = 64"
      ],
      "metadata": {
        "id": "zplM4CqNuJ6W"
      },
      "execution_count": 16,
      "outputs": []
    },
    {
      "cell_type": "markdown",
      "source": [
        "### Import datas (train.txt, test.txt, & val.txt)"
      ],
      "metadata": {
        "id": "cwKn8BZXuJ6X"
      }
    },
    {
      "cell_type": "code",
      "source": [
        "!gdown --id 1_dVImkGNSGyNfhwyk-HvEAbhsgfllme5\n",
        "!gdown --id 1_78dxOwwLGw1v2O8Ksj7RqpHzkEbnndQ\n",
        "!gdown --id 1mZ7LHrcN_KzrxYektcnlBRzqBOlIOIL2"
      ],
      "metadata": {
        "colab": {
          "base_uri": "https://localhost:8080/",
          "height": 0
        },
        "outputId": "12bd5603-96d8-43fa-ccd6-8eb96c216fc6",
        "id": "37qrOUXxuJ6X"
      },
      "execution_count": 17,
      "outputs": [
        {
          "output_type": "stream",
          "name": "stdout",
          "text": [
            "/usr/local/lib/python3.7/dist-packages/gdown/cli.py:131: FutureWarning: Option `--id` was deprecated in version 4.3.1 and will be removed in 5.0. You don't need to pass it anymore to use a file ID.\n",
            "  category=FutureWarning,\n",
            "Downloading...\n",
            "From: https://drive.google.com/uc?id=1_dVImkGNSGyNfhwyk-HvEAbhsgfllme5\n",
            "To: /content/test.txt\n",
            "100% 207k/207k [00:00<00:00, 113MB/s]\n",
            "/usr/local/lib/python3.7/dist-packages/gdown/cli.py:131: FutureWarning: Option `--id` was deprecated in version 4.3.1 and will be removed in 5.0. You don't need to pass it anymore to use a file ID.\n",
            "  category=FutureWarning,\n",
            "Downloading...\n",
            "From: https://drive.google.com/uc?id=1_78dxOwwLGw1v2O8Ksj7RqpHzkEbnndQ\n",
            "To: /content/train.txt\n",
            "100% 1.66M/1.66M [00:00<00:00, 201MB/s]\n",
            "/usr/local/lib/python3.7/dist-packages/gdown/cli.py:131: FutureWarning: Option `--id` was deprecated in version 4.3.1 and will be removed in 5.0. You don't need to pass it anymore to use a file ID.\n",
            "  category=FutureWarning,\n",
            "Access denied with the following error:\n",
            "\n",
            " \tCannot retrieve the public link of the file. You may need to change\n",
            "\tthe permission to 'Anyone with the link', or have had many accesses. \n",
            "\n",
            "You may still be able to access the file from the browser:\n",
            "\n",
            "\t https://drive.google.com/uc?id=1mZ7LHrcN_KzrxYektcnlBRzqBOlIOIL2 \n",
            "\n"
          ]
        }
      ]
    },
    {
      "cell_type": "markdown",
      "source": [
        "### Read datas"
      ],
      "metadata": {
        "id": "zOQkUUqnuJ6X"
      }
    },
    {
      "cell_type": "code",
      "source": [
        "df_train = pd.read_csv('train.txt', delimiter=';', header=None, names=['content','emotion'])\n",
        "df_test = pd.read_csv('test.txt', delimiter=';', header=None, names=['content','emotion'])\n",
        "df_val = pd.read_csv('val.txt', delimiter=';', header=None, names=['content','emotion'])"
      ],
      "metadata": {
        "id": "-Lphea9huJ6X"
      },
      "execution_count": 18,
      "outputs": []
    },
    {
      "cell_type": "code",
      "source": [
        "# See how dataframe looks alike\n",
        "df_train"
      ],
      "metadata": {
        "colab": {
          "base_uri": "https://localhost:8080/",
          "height": 424
        },
        "outputId": "891e4311-20bf-4c01-ab45-ae2af680393b",
        "id": "IPp8EqKouJ6X"
      },
      "execution_count": 19,
      "outputs": [
        {
          "output_type": "execute_result",
          "data": {
            "text/plain": [
              "                                                 content  emotion\n",
              "0                                i didnt feel humiliated  sadness\n",
              "1      i can go from feeling so hopeless to so damned...  sadness\n",
              "2       im grabbing a minute to post i feel greedy wrong    anger\n",
              "3      i am ever feeling nostalgic about the fireplac...     love\n",
              "4                                   i am feeling grouchy    anger\n",
              "...                                                  ...      ...\n",
              "15995  i just had a very brief time in the beanbag an...  sadness\n",
              "15996  i am now turning and i feel pathetic that i am...  sadness\n",
              "15997                     i feel strong and good overall      joy\n",
              "15998  i feel like this was such a rude comment and i...    anger\n",
              "15999  i know a lot but i feel so stupid because i ca...  sadness\n",
              "\n",
              "[16000 rows x 2 columns]"
            ],
            "text/html": [
              "\n",
              "  <div id=\"df-9772ad6f-6bd5-41fe-ac23-6fe193771857\">\n",
              "    <div class=\"colab-df-container\">\n",
              "      <div>\n",
              "<style scoped>\n",
              "    .dataframe tbody tr th:only-of-type {\n",
              "        vertical-align: middle;\n",
              "    }\n",
              "\n",
              "    .dataframe tbody tr th {\n",
              "        vertical-align: top;\n",
              "    }\n",
              "\n",
              "    .dataframe thead th {\n",
              "        text-align: right;\n",
              "    }\n",
              "</style>\n",
              "<table border=\"1\" class=\"dataframe\">\n",
              "  <thead>\n",
              "    <tr style=\"text-align: right;\">\n",
              "      <th></th>\n",
              "      <th>content</th>\n",
              "      <th>emotion</th>\n",
              "    </tr>\n",
              "  </thead>\n",
              "  <tbody>\n",
              "    <tr>\n",
              "      <th>0</th>\n",
              "      <td>i didnt feel humiliated</td>\n",
              "      <td>sadness</td>\n",
              "    </tr>\n",
              "    <tr>\n",
              "      <th>1</th>\n",
              "      <td>i can go from feeling so hopeless to so damned...</td>\n",
              "      <td>sadness</td>\n",
              "    </tr>\n",
              "    <tr>\n",
              "      <th>2</th>\n",
              "      <td>im grabbing a minute to post i feel greedy wrong</td>\n",
              "      <td>anger</td>\n",
              "    </tr>\n",
              "    <tr>\n",
              "      <th>3</th>\n",
              "      <td>i am ever feeling nostalgic about the fireplac...</td>\n",
              "      <td>love</td>\n",
              "    </tr>\n",
              "    <tr>\n",
              "      <th>4</th>\n",
              "      <td>i am feeling grouchy</td>\n",
              "      <td>anger</td>\n",
              "    </tr>\n",
              "    <tr>\n",
              "      <th>...</th>\n",
              "      <td>...</td>\n",
              "      <td>...</td>\n",
              "    </tr>\n",
              "    <tr>\n",
              "      <th>15995</th>\n",
              "      <td>i just had a very brief time in the beanbag an...</td>\n",
              "      <td>sadness</td>\n",
              "    </tr>\n",
              "    <tr>\n",
              "      <th>15996</th>\n",
              "      <td>i am now turning and i feel pathetic that i am...</td>\n",
              "      <td>sadness</td>\n",
              "    </tr>\n",
              "    <tr>\n",
              "      <th>15997</th>\n",
              "      <td>i feel strong and good overall</td>\n",
              "      <td>joy</td>\n",
              "    </tr>\n",
              "    <tr>\n",
              "      <th>15998</th>\n",
              "      <td>i feel like this was such a rude comment and i...</td>\n",
              "      <td>anger</td>\n",
              "    </tr>\n",
              "    <tr>\n",
              "      <th>15999</th>\n",
              "      <td>i know a lot but i feel so stupid because i ca...</td>\n",
              "      <td>sadness</td>\n",
              "    </tr>\n",
              "  </tbody>\n",
              "</table>\n",
              "<p>16000 rows × 2 columns</p>\n",
              "</div>\n",
              "      <button class=\"colab-df-convert\" onclick=\"convertToInteractive('df-9772ad6f-6bd5-41fe-ac23-6fe193771857')\"\n",
              "              title=\"Convert this dataframe to an interactive table.\"\n",
              "              style=\"display:none;\">\n",
              "        \n",
              "  <svg xmlns=\"http://www.w3.org/2000/svg\" height=\"24px\"viewBox=\"0 0 24 24\"\n",
              "       width=\"24px\">\n",
              "    <path d=\"M0 0h24v24H0V0z\" fill=\"none\"/>\n",
              "    <path d=\"M18.56 5.44l.94 2.06.94-2.06 2.06-.94-2.06-.94-.94-2.06-.94 2.06-2.06.94zm-11 1L8.5 8.5l.94-2.06 2.06-.94-2.06-.94L8.5 2.5l-.94 2.06-2.06.94zm10 10l.94 2.06.94-2.06 2.06-.94-2.06-.94-.94-2.06-.94 2.06-2.06.94z\"/><path d=\"M17.41 7.96l-1.37-1.37c-.4-.4-.92-.59-1.43-.59-.52 0-1.04.2-1.43.59L10.3 9.45l-7.72 7.72c-.78.78-.78 2.05 0 2.83L4 21.41c.39.39.9.59 1.41.59.51 0 1.02-.2 1.41-.59l7.78-7.78 2.81-2.81c.8-.78.8-2.07 0-2.86zM5.41 20L4 18.59l7.72-7.72 1.47 1.35L5.41 20z\"/>\n",
              "  </svg>\n",
              "      </button>\n",
              "      \n",
              "  <style>\n",
              "    .colab-df-container {\n",
              "      display:flex;\n",
              "      flex-wrap:wrap;\n",
              "      gap: 12px;\n",
              "    }\n",
              "\n",
              "    .colab-df-convert {\n",
              "      background-color: #E8F0FE;\n",
              "      border: none;\n",
              "      border-radius: 50%;\n",
              "      cursor: pointer;\n",
              "      display: none;\n",
              "      fill: #1967D2;\n",
              "      height: 32px;\n",
              "      padding: 0 0 0 0;\n",
              "      width: 32px;\n",
              "    }\n",
              "\n",
              "    .colab-df-convert:hover {\n",
              "      background-color: #E2EBFA;\n",
              "      box-shadow: 0px 1px 2px rgba(60, 64, 67, 0.3), 0px 1px 3px 1px rgba(60, 64, 67, 0.15);\n",
              "      fill: #174EA6;\n",
              "    }\n",
              "\n",
              "    [theme=dark] .colab-df-convert {\n",
              "      background-color: #3B4455;\n",
              "      fill: #D2E3FC;\n",
              "    }\n",
              "\n",
              "    [theme=dark] .colab-df-convert:hover {\n",
              "      background-color: #434B5C;\n",
              "      box-shadow: 0px 1px 3px 1px rgba(0, 0, 0, 0.15);\n",
              "      filter: drop-shadow(0px 1px 2px rgba(0, 0, 0, 0.3));\n",
              "      fill: #FFFFFF;\n",
              "    }\n",
              "  </style>\n",
              "\n",
              "      <script>\n",
              "        const buttonEl =\n",
              "          document.querySelector('#df-9772ad6f-6bd5-41fe-ac23-6fe193771857 button.colab-df-convert');\n",
              "        buttonEl.style.display =\n",
              "          google.colab.kernel.accessAllowed ? 'block' : 'none';\n",
              "\n",
              "        async function convertToInteractive(key) {\n",
              "          const element = document.querySelector('#df-9772ad6f-6bd5-41fe-ac23-6fe193771857');\n",
              "          const dataTable =\n",
              "            await google.colab.kernel.invokeFunction('convertToInteractive',\n",
              "                                                     [key], {});\n",
              "          if (!dataTable) return;\n",
              "\n",
              "          const docLinkHtml = 'Like what you see? Visit the ' +\n",
              "            '<a target=\"_blank\" href=https://colab.research.google.com/notebooks/data_table.ipynb>data table notebook</a>'\n",
              "            + ' to learn more about interactive tables.';\n",
              "          element.innerHTML = '';\n",
              "          dataTable['output_type'] = 'display_data';\n",
              "          await google.colab.output.renderOutput(dataTable, element);\n",
              "          const docLink = document.createElement('div');\n",
              "          docLink.innerHTML = docLinkHtml;\n",
              "          element.appendChild(docLink);\n",
              "        }\n",
              "      </script>\n",
              "    </div>\n",
              "  </div>\n",
              "  "
            ]
          },
          "metadata": {},
          "execution_count": 19
        }
      ]
    },
    {
      "cell_type": "markdown",
      "source": [
        "### Preprocessing data (Non NLP)"
      ],
      "metadata": {
        "id": "Wk1IlybyuJ6Y"
      }
    },
    {
      "cell_type": "code",
      "source": [
        "# Checking for missing value\n",
        "print(df_train.isnull().sum().sum())\n",
        "print(df_test.isnull().sum().sum())\n",
        "print(df_val.isnull().sum().sum())"
      ],
      "metadata": {
        "colab": {
          "base_uri": "https://localhost:8080/",
          "height": 0
        },
        "outputId": "25a7df4f-35a3-4652-86d3-a74c034baabd",
        "id": "c8UyoQwRuJ6Y"
      },
      "execution_count": 20,
      "outputs": [
        {
          "output_type": "stream",
          "name": "stdout",
          "text": [
            "0\n",
            "0\n",
            "0\n"
          ]
        }
      ]
    },
    {
      "cell_type": "code",
      "source": [
        "# Checking for duplicated value\n",
        "print(df_train[df_train.duplicated()])\n",
        "print(df_test[df_test.duplicated()])\n",
        "print(df_val[df_val.duplicated()])"
      ],
      "metadata": {
        "colab": {
          "base_uri": "https://localhost:8080/",
          "height": 0
        },
        "outputId": "907b0838-a3ed-4cb4-a2ae-824bc788f8c7",
        "id": "XFYvnUMzuJ6Y"
      },
      "execution_count": 21,
      "outputs": [
        {
          "output_type": "stream",
          "name": "stdout",
          "text": [
            "                                                 content emotion\n",
            "13846  i feel more adventurous willing to take risks ...     joy\n",
            "Empty DataFrame\n",
            "Columns: [content, emotion]\n",
            "Index: []\n",
            "Empty DataFrame\n",
            "Columns: [content, emotion]\n",
            "Index: []\n"
          ]
        }
      ]
    },
    {
      "cell_type": "code",
      "source": [
        "# Remove duplicated data\n",
        "df_train.drop_duplicates(inplace=True)\n",
        "print(df_train[df_train.duplicated()])"
      ],
      "metadata": {
        "colab": {
          "base_uri": "https://localhost:8080/",
          "height": 0
        },
        "outputId": "1abd3eb5-dceb-4444-ecc3-334770ff6734",
        "id": "IMDGz0dzuJ6Y"
      },
      "execution_count": 22,
      "outputs": [
        {
          "output_type": "stream",
          "name": "stdout",
          "text": [
            "Empty DataFrame\n",
            "Columns: [content, emotion]\n",
            "Index: []\n"
          ]
        }
      ]
    },
    {
      "cell_type": "code",
      "source": [
        "# Cast from categorical data to numerical data\n",
        "y_train = df_train.emotion.replace(['sadness','joy','fear','anger','love','surprise'],[0,1,2,3,4,5]).astype(np.float32)\n",
        "y_test = df_test.emotion.replace(['sadness','joy','fear','anger','love','surprise'],[0,1,2,3,4,5]).astype(np.float32)\n",
        "y_val = df_val.emotion.replace(['sadness','joy','fear','anger','love','surprise'],[0,1,2,3,4,5]).astype(np.float32)"
      ],
      "metadata": {
        "id": "4YteUCpLomuf"
      },
      "execution_count": 23,
      "outputs": []
    },
    {
      "cell_type": "markdown",
      "source": [
        "### Preprocessing data (NLP)"
      ],
      "metadata": {
        "id": "h3BC8NQouJ6Y"
      }
    },
    {
      "cell_type": "code",
      "source": [
        "# Tokenizing trianing data\n",
        "tokenizer = Tokenizer(num_words=VOCAB_SIZE, oov_token=OOV_TOKEN)\n",
        "tokenizer.fit_on_texts(df_train.content)\n",
        "\n",
        "# Save tokenizer\n",
        "with open('tokenizer.pickle', 'wb') as handle:\n",
        "    pickle.dump(tokenizer, handle, protocol=pickle.HIGHEST_PROTOCOL)"
      ],
      "metadata": {
        "id": "ztegKozbuJ6Y"
      },
      "execution_count": 24,
      "outputs": []
    },
    {
      "cell_type": "code",
      "source": [
        "# Padding all datas\n",
        "x_train_padded = pad_sequences(tokenizer.texts_to_sequences(df_train.content), padding=PADDING_STYLE)\n",
        "x_test_padded = pad_sequences(tokenizer.texts_to_sequences(df_test.content), padding=PADDING_STYLE)\n",
        "x_val_padded = pad_sequences(tokenizer.texts_to_sequences(df_val.content), padding=PADDING_STYLE)"
      ],
      "metadata": {
        "id": "FAVSewCdofYN"
      },
      "execution_count": 25,
      "outputs": []
    },
    {
      "cell_type": "markdown",
      "source": [
        "### Creating and training model"
      ],
      "metadata": {
        "id": "C9Pb9mPDuJ6Z"
      }
    },
    {
      "cell_type": "code",
      "source": [
        "class myCallback(tf.keras.callbacks.Callback):\n",
        "  def on_epoch_end(self, epoch, logs={}):\n",
        "\n",
        "    if(logs.get('loss') < 0.1):\n",
        "\n",
        "      # Stop if threshold is met\n",
        "      print(\"\\nLoss is lower than 0.1 so cancelling training!\")\n",
        "      self.model.stop_training = True\n",
        "\n",
        "callbacks = myCallback()"
      ],
      "metadata": {
        "id": "5a6lxo_YuJ6Z"
      },
      "execution_count": 26,
      "outputs": []
    },
    {
      "cell_type": "code",
      "source": [
        "model = tf.keras.Sequential([\n",
        "    tf.keras.layers.Embedding(VOCAB_SIZE, EMBEDDING_DIM),\n",
        "    tf.keras.layers.Bidirectional(tf.keras.layers.LSTM(units=EMBEDDING_DIM,\n",
        "                                                       return_sequences=True,\n",
        "                                                       dropout=0.2,\n",
        "                                                       recurrent_dropout=0.1,\n",
        "                                                       kernel_initializer=tf.keras.initializers.he_normal())),\n",
        "    tf.keras.layers.Bidirectional(tf.keras.layers.LSTM(units=EMBEDDING_DIM,\n",
        "                                                       dropout=0.2,\n",
        "                                                       recurrent_dropout=0.1,\n",
        "                                                       kernel_initializer=tf.keras.initializers.he_normal())),\n",
        "    tf.keras.layers.Dense(32, activation='relu'),\n",
        "    tf.keras.layers.Dropout(0.2),\n",
        "    tf.keras.layers.Dense(16, activation='relu'),\n",
        "    tf.keras.layers.Dropout(0.2),\n",
        "    tf.keras.layers.Dense(6, activation='softmax')\n",
        "])"
      ],
      "metadata": {
        "colab": {
          "base_uri": "https://localhost:8080/",
          "height": 0
        },
        "outputId": "804f9a88-3124-4a7c-dd1d-045c22b11770",
        "id": "E02M4H0JuJ6Z"
      },
      "execution_count": 27,
      "outputs": [
        {
          "output_type": "stream",
          "name": "stdout",
          "text": [
            "WARNING:tensorflow:Layer lstm_1 will not use cuDNN kernels since it doesn't meet the criteria. It will use a generic GPU kernel as fallback when running on GPU.\n",
            "WARNING:tensorflow:Layer lstm_1 will not use cuDNN kernels since it doesn't meet the criteria. It will use a generic GPU kernel as fallback when running on GPU.\n",
            "WARNING:tensorflow:Layer lstm_1 will not use cuDNN kernels since it doesn't meet the criteria. It will use a generic GPU kernel as fallback when running on GPU.\n",
            "WARNING:tensorflow:Layer lstm_2 will not use cuDNN kernels since it doesn't meet the criteria. It will use a generic GPU kernel as fallback when running on GPU.\n",
            "WARNING:tensorflow:Layer lstm_2 will not use cuDNN kernels since it doesn't meet the criteria. It will use a generic GPU kernel as fallback when running on GPU.\n",
            "WARNING:tensorflow:Layer lstm_2 will not use cuDNN kernels since it doesn't meet the criteria. It will use a generic GPU kernel as fallback when running on GPU.\n"
          ]
        }
      ]
    },
    {
      "cell_type": "code",
      "source": [
        "model.summary()"
      ],
      "metadata": {
        "colab": {
          "base_uri": "https://localhost:8080/",
          "height": 0
        },
        "outputId": "7bf036ae-7ae0-4930-e274-b80a0e810173",
        "id": "e22ph1H7uJ6Z"
      },
      "execution_count": 28,
      "outputs": [
        {
          "output_type": "stream",
          "name": "stdout",
          "text": [
            "Model: \"sequential\"\n",
            "_________________________________________________________________\n",
            " Layer (type)                Output Shape              Param #   \n",
            "=================================================================\n",
            " embedding_1 (Embedding)     (None, None, 64)          640000    \n",
            "                                                                 \n",
            " bidirectional (Bidirectiona  (None, None, 128)        66048     \n",
            " l)                                                              \n",
            "                                                                 \n",
            " bidirectional_1 (Bidirectio  (None, 128)              98816     \n",
            " nal)                                                            \n",
            "                                                                 \n",
            " dense (Dense)               (None, 32)                4128      \n",
            "                                                                 \n",
            " dropout (Dropout)           (None, 32)                0         \n",
            "                                                                 \n",
            " dense_1 (Dense)             (None, 16)                528       \n",
            "                                                                 \n",
            " dropout_1 (Dropout)         (None, 16)                0         \n",
            "                                                                 \n",
            " dense_2 (Dense)             (None, 6)                 102       \n",
            "                                                                 \n",
            "=================================================================\n",
            "Total params: 809,622\n",
            "Trainable params: 809,622\n",
            "Non-trainable params: 0\n",
            "_________________________________________________________________\n"
          ]
        }
      ]
    },
    {
      "cell_type": "code",
      "source": [
        "model.compile(loss='sparse_categorical_crossentropy', \n",
        "              optimizer=tf.keras.optimizers.Adam(learning_rate=0.001), \n",
        "              metrics=['accuracy'])"
      ],
      "metadata": {
        "id": "VCA5rxrvuJ6Z"
      },
      "execution_count": 29,
      "outputs": []
    },
    {
      "cell_type": "code",
      "source": [
        "NUM_EPOCHS = 20\n",
        "\n",
        "# Train the model\n",
        "history = model.fit(x_train_padded,y_train, epochs=NUM_EPOCHS, validation_data=(x_val_padded,y_val),callbacks=[callbacks])"
      ],
      "metadata": {
        "colab": {
          "base_uri": "https://localhost:8080/",
          "height": 0
        },
        "outputId": "ccec0e9f-f33d-43c7-b887-66e218ed7189",
        "id": "J4ofZDuxuJ6Z"
      },
      "execution_count": 30,
      "outputs": [
        {
          "output_type": "stream",
          "name": "stdout",
          "text": [
            "Epoch 1/20\n",
            "500/500 [==============================] - 401s 780ms/step - loss: 1.2415 - accuracy: 0.5308 - val_loss: 0.7440 - val_accuracy: 0.7055\n",
            "Epoch 2/20\n",
            "500/500 [==============================] - 389s 779ms/step - loss: 0.6015 - accuracy: 0.7691 - val_loss: 0.3858 - val_accuracy: 0.8715\n",
            "Epoch 3/20\n",
            "500/500 [==============================] - 389s 778ms/step - loss: 0.3248 - accuracy: 0.8962 - val_loss: 0.2893 - val_accuracy: 0.9105\n",
            "Epoch 4/20\n",
            "500/500 [==============================] - 389s 777ms/step - loss: 0.2025 - accuracy: 0.9372 - val_loss: 0.2864 - val_accuracy: 0.9115\n",
            "Epoch 5/20\n",
            "500/500 [==============================] - 390s 779ms/step - loss: 0.1582 - accuracy: 0.9523 - val_loss: 0.2478 - val_accuracy: 0.9175\n",
            "Epoch 6/20\n",
            "500/500 [==============================] - 388s 776ms/step - loss: 0.1276 - accuracy: 0.9597 - val_loss: 0.2605 - val_accuracy: 0.9200\n",
            "Epoch 7/20\n",
            "500/500 [==============================] - 389s 778ms/step - loss: 0.1000 - accuracy: 0.9682 - val_loss: 0.3467 - val_accuracy: 0.9120\n",
            "Epoch 8/20\n",
            "500/500 [==============================] - 388s 777ms/step - loss: 0.1041 - accuracy: 0.9674 - val_loss: 0.2957 - val_accuracy: 0.9240\n",
            "Epoch 9/20\n",
            "500/500 [==============================] - ETA: 0s - loss: 0.0729 - accuracy: 0.9788\n",
            "Loss is lower than 0.1 so cancelling training!\n",
            "500/500 [==============================] - 389s 777ms/step - loss: 0.0729 - accuracy: 0.9788 - val_loss: 0.3205 - val_accuracy: 0.9225\n"
          ]
        }
      ]
    },
    {
      "cell_type": "markdown",
      "source": [
        "### Evaluate test data"
      ],
      "metadata": {
        "id": "P5ckGjvGuJ6Z"
      }
    },
    {
      "cell_type": "code",
      "source": [
        "results = model.evaluate(x_test_padded, y_test, batch_size=128)\n",
        "print(\"Test loss, test accuracy: \", results)"
      ],
      "metadata": {
        "colab": {
          "base_uri": "https://localhost:8080/",
          "height": 0
        },
        "outputId": "01483899-94f6-4889-fa2b-658291710d41",
        "id": "TDaZc2MzuJ6Z"
      },
      "execution_count": 31,
      "outputs": [
        {
          "output_type": "stream",
          "name": "stdout",
          "text": [
            "16/16 [==============================] - 1s 56ms/step - loss: 0.3189 - accuracy: 0.9235\n",
            "Test loss, test accuracy:  [0.31891342997550964, 0.9235000014305115]\n"
          ]
        }
      ]
    },
    {
      "cell_type": "markdown",
      "source": [
        "### Save model for deployment"
      ],
      "metadata": {
        "id": "Qr6rpDJ2RdXc"
      }
    },
    {
      "cell_type": "code",
      "source": [
        "model.save('model.h5')"
      ],
      "metadata": {
        "id": "kweHry7FRheb"
      },
      "execution_count": 32,
      "outputs": []
    },
    {
      "cell_type": "markdown",
      "source": [
        "### Plotting metrices"
      ],
      "metadata": {
        "id": "NVSDbpxPuJ6a"
      }
    },
    {
      "cell_type": "code",
      "source": [
        "def plot_graphs(history, string):\n",
        "  plt.plot(history.history[string])\n",
        "  plt.plot(history.history['val_'+string])\n",
        "  plt.xlabel(\"Epochs\")\n",
        "  plt.ylabel(string)\n",
        "  plt.legend([string, 'val_'+string])\n",
        "  plt.show()"
      ],
      "metadata": {
        "id": "bAuPUFJnuJ6a"
      },
      "execution_count": 33,
      "outputs": []
    },
    {
      "cell_type": "code",
      "source": [
        "plot_graphs(history, 'accuracy')\n",
        "plot_graphs(history, 'loss')"
      ],
      "metadata": {
        "colab": {
          "base_uri": "https://localhost:8080/",
          "height": 545
        },
        "outputId": "7a60315f-24cd-4d33-b2b7-493485dea3fc",
        "id": "OWe3L-m5uJ6a"
      },
      "execution_count": 34,
      "outputs": [
        {
          "output_type": "display_data",
          "data": {
            "text/plain": [
              "<Figure size 432x288 with 1 Axes>"
            ],
            "image/png": "[encoded data removed]"
          },
          "metadata": {
            "needs_background": "light"
          }
        },
        {
          "output_type": "display_data",
          "data": {
            "text/plain": [
              "<Figure size 432x288 with 1 Axes>"
            ],
            "image/png": "[encoded data removed]"
          },
          "metadata": {
            "needs_background": "light"
          }
        }
      ]
    },
    {
      "cell_type": "markdown",
      "source": [
        "### Try predict"
      ],
      "metadata": {
        "id": "6Ddpv7wQuJ6a"
      }
    },
    {
      "cell_type": "code",
      "source": [
        "model = tf.keras.models.load_model('model.h5')"
      ],
      "metadata": {
        "id": "iDFraejwtOwj",
        "colab": {
          "base_uri": "https://localhost:8080/",
          "height": 0
        },
        "outputId": "202e5d39-de66-4525-fa9d-3e5c1a09ed5e"
      },
      "execution_count": 35,
      "outputs": [
        {
          "output_type": "stream",
          "name": "stdout",
          "text": [
            "WARNING:tensorflow:Layer lstm_1 will not use cuDNN kernels since it doesn't meet the criteria. It will use a generic GPU kernel as fallback when running on GPU.\n",
            "WARNING:tensorflow:Layer lstm_1 will not use cuDNN kernels since it doesn't meet the criteria. It will use a generic GPU kernel as fallback when running on GPU.\n",
            "WARNING:tensorflow:Layer lstm_1 will not use cuDNN kernels since it doesn't meet the criteria. It will use a generic GPU kernel as fallback when running on GPU.\n",
            "WARNING:tensorflow:Layer lstm_2 will not use cuDNN kernels since it doesn't meet the criteria. It will use a generic GPU kernel as fallback when running on GPU.\n",
            "WARNING:tensorflow:Layer lstm_2 will not use cuDNN kernels since it doesn't meet the criteria. It will use a generic GPU kernel as fallback when running on GPU.\n",
            "WARNING:tensorflow:Layer lstm_2 will not use cuDNN kernels since it doesn't meet the criteria. It will use a generic GPU kernel as fallback when running on GPU.\n"
          ]
        }
      ]
    },
    {
      "cell_type": "code",
      "source": [
        "def mapping_emotion_code(emotion_numerical_code):\n",
        "    if emotion_numerical_code == 0:\n",
        "        return 'sadness'\n",
        "    elif emotion_numerical_code == 1:\n",
        "        return 'joy'\n",
        "    elif emotion_numerical_code == 2:\n",
        "        return 'fear'\n",
        "    elif emotion_numerical_code == 3:\n",
        "        return 'anger'\n",
        "    elif emotion_numerical_code == 4:\n",
        "        return 'love'\n",
        "    elif emotion_numerical_code == 5:\n",
        "        return 'surprise'"
      ],
      "metadata": {
        "id": "H5FvuZi3uJ6a"
      },
      "execution_count": 36,
      "outputs": []
    },
    {
      "cell_type": "code",
      "source": [
        "emotions_probability = model.predict(pad_sequences(tokenizer.texts_to_sequences([\"I didn't think that my declaration of love would be accepted. I really feel very lucky, he put his heart to me. She is beautiful like an angel, millions of men want her, but in the end she anchored me. Thank god, you're really good.\"]), padding=\"post\"))\n",
        "predicted_emotion_numerical_code = np.argmax(emotions_probability)\n",
        "predicted_emotion = mapping_emotion_code(predicted_emotion_numerical_code)\n",
        "print(predicted_emotion)"
      ],
      "metadata": {
        "colab": {
          "base_uri": "https://localhost:8080/",
          "height": 0
        },
        "outputId": "f8cee847-05ad-4b8d-8c37-173ef8451dcf",
        "id": "qSysTR3guJ6a"
      },
      "execution_count": 39,
      "outputs": [
        {
          "output_type": "stream",
          "name": "stdout",
          "text": [
            "joy\n"
          ]
        }
      ]
    }
  ]
}